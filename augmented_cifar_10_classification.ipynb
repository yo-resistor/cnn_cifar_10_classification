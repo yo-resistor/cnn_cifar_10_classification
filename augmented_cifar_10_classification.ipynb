{
 "cells": [
  {
   "cell_type": "markdown",
   "metadata": {},
   "source": [
    "# Objective: Convolutional Neural Network Classification Using Augmented CIFAR-10\n",
    "Here, I'm going to build an convolutional neural network classification model using PyTorch using augmented CIFAR-10 training data set."
   ]
  },
  {
   "cell_type": "markdown",
   "metadata": {
    "vscode": {
     "languageId": "plaintext"
    }
   },
   "source": [
    "## Import Libraries"
   ]
  },
  {
   "cell_type": "code",
   "execution_count": 9,
   "metadata": {},
   "outputs": [],
   "source": [
    "import torch\n",
    "import torch.nn as nn\n",
    "import torch.nn.functional as F\n",
    "import torch.utils\n",
    "import torchvision\n",
    "import torchvision.transforms as transforms\n",
    "import numpy as np\n",
    "import matplotlib.pyplot as plt\n",
    "from datetime import datetime"
   ]
  },
  {
   "cell_type": "markdown",
   "metadata": {},
   "source": [
    "## Load Data\n",
    "This covers how to download the data and load the data into the code."
   ]
  },
  {
   "cell_type": "code",
   "execution_count": 2,
   "metadata": {},
   "outputs": [
    {
     "name": "stdout",
     "output_type": "stream",
     "text": [
      "Files already downloaded and verified\n",
      "Files already downloaded and verified\n"
     ]
    }
   ],
   "source": [
    "# ref: https://pytorch.org/vision/0.9/transforms.html\n",
    "transformer_train = transforms.Compose([\n",
    "    # transforms.ColorJitter(brightness=0.2, contrast=0.2, saturation=0.2, hue=0.2),\n",
    "    transforms.RandomCrop(size=32, padding=4),\n",
    "    transforms.RandomHorizontalFlip(p=0.5),\n",
    "    # transforms.RandomRotation(degrees=15),\n",
    "    transforms.RandomAffine(degrees=0, translate=(0.1, 0.1)),\n",
    "    # transforms.RandomPerspective(),\n",
    "    transforms.ToTensor(),\n",
    "])\n",
    "\n",
    "# load train dataset for training\n",
    "train_dataset = torchvision.datasets.CIFAR10(\n",
    "    root='.',\n",
    "    train=True,\n",
    "    transform=transformer_train,\n",
    "    download=True\n",
    ")\n",
    "\n",
    "# load train dataset for testing\n",
    "train_dataset_original = torchvision.datasets.CIFAR10(\n",
    "    root='.',\n",
    "    train=True,\n",
    "    transform=transforms.ToTensor(),\n",
    "    download=True\n",
    ")"
   ]
  },
  {
   "cell_type": "code",
   "execution_count": 3,
   "metadata": {},
   "outputs": [
    {
     "data": {
      "text/plain": [
       "(50000, 32, 32, 3)"
      ]
     },
     "execution_count": 3,
     "metadata": {},
     "output_type": "execute_result"
    }
   ],
   "source": [
    "# analyze train dataset\n",
    "train_dataset.data.shape\n",
    "# set(train_dataset.targets)"
   ]
  },
  {
   "cell_type": "code",
   "execution_count": 4,
   "metadata": {},
   "outputs": [
    {
     "name": "stdout",
     "output_type": "stream",
     "text": [
      "Files already downloaded and verified\n"
     ]
    }
   ],
   "source": [
    "# load test dataset\n",
    "test_dataset = torchvision.datasets.CIFAR10(\n",
    "    root='.',\n",
    "    train=False,\n",
    "    transform=transforms.ToTensor(),\n",
    "    download=True\n",
    ")"
   ]
  },
  {
   "cell_type": "code",
   "execution_count": 5,
   "metadata": {},
   "outputs": [
    {
     "data": {
      "text/plain": [
       "(10000, 32, 32, 3)"
      ]
     },
     "execution_count": 5,
     "metadata": {},
     "output_type": "execute_result"
    }
   ],
   "source": [
    "# analyze test dataset\n",
    "test_dataset.data.shape"
   ]
  },
  {
   "cell_type": "markdown",
   "metadata": {},
   "source": [
    "## Preprocess Data\n",
    "This covers how to create batch using DataLoader."
   ]
  },
  {
   "cell_type": "code",
   "execution_count": 6,
   "metadata": {},
   "outputs": [
    {
     "name": "stdout",
     "output_type": "stream",
     "text": [
      "The number of classes: 10\n"
     ]
    }
   ],
   "source": [
    "# get the number of classes\n",
    "K = len(set(train_dataset.targets))\n",
    "print(f\"The number of classes: {K}\")"
   ]
  },
  {
   "cell_type": "code",
   "execution_count": 7,
   "metadata": {},
   "outputs": [],
   "source": [
    "# dataloader to automatically generate batches in the training loop with shuffling\n",
    "batch_size = 128\n",
    "train_loader = torch.utils.data.DataLoader(dataset=train_dataset,\n",
    "                                           batch_size=batch_size,\n",
    "                                           shuffle=True)\n",
    "train_loader_original = torch.utils.data.DataLoader(dataset=train_dataset_original,\n",
    "                                                    batch_size=batch_size,\n",
    "                                                    shuffle=False)\n",
    "test_loader = torch.utils.data.DataLoader(dataset=test_dataset,\n",
    "                                          batch_size=batch_size,\n",
    "                                          shuffle=False)"
   ]
  },
  {
   "cell_type": "code",
   "execution_count": 8,
   "metadata": {},
   "outputs": [
    {
     "name": "stdout",
     "output_type": "stream",
     "text": [
      "tensor([[[[0.0000, 0.0000, 0.0000,  ..., 0.8314, 0.8196, 0.8275],\n",
      "          [0.0000, 0.0000, 0.0000,  ..., 0.8392, 0.6980, 0.6824],\n",
      "          [0.0000, 0.0000, 0.0000,  ..., 0.8353, 0.6941, 0.6392],\n",
      "          ...,\n",
      "          [0.0000, 0.0000, 0.0000,  ..., 0.0000, 0.0000, 0.0000],\n",
      "          [0.0000, 0.0000, 0.0000,  ..., 0.0000, 0.0000, 0.0000],\n",
      "          [0.0000, 0.0000, 0.0000,  ..., 0.0000, 0.0000, 0.0000]],\n",
      "\n",
      "         [[0.0000, 0.0000, 0.0000,  ..., 0.8510, 0.8314, 0.7529],\n",
      "          [0.0000, 0.0000, 0.0000,  ..., 0.7333, 0.5490, 0.4667],\n",
      "          [0.0000, 0.0000, 0.0000,  ..., 0.6000, 0.4314, 0.3725],\n",
      "          ...,\n",
      "          [0.0000, 0.0000, 0.0000,  ..., 0.0000, 0.0000, 0.0000],\n",
      "          [0.0000, 0.0000, 0.0000,  ..., 0.0000, 0.0000, 0.0000],\n",
      "          [0.0000, 0.0000, 0.0000,  ..., 0.0000, 0.0000, 0.0000]],\n",
      "\n",
      "         [[0.0000, 0.0000, 0.0000,  ..., 0.8902, 0.8431, 0.7451],\n",
      "          [0.0000, 0.0000, 0.0000,  ..., 0.7098, 0.5098, 0.4000],\n",
      "          [0.0000, 0.0000, 0.0000,  ..., 0.5098, 0.3451, 0.2549],\n",
      "          ...,\n",
      "          [0.0000, 0.0000, 0.0000,  ..., 0.0000, 0.0000, 0.0000],\n",
      "          [0.0000, 0.0000, 0.0000,  ..., 0.0000, 0.0000, 0.0000],\n",
      "          [0.0000, 0.0000, 0.0000,  ..., 0.0000, 0.0000, 0.0000]]]])\n",
      "torch.Size([1, 3, 32, 32])\n"
     ]
    }
   ],
   "source": [
    "# check whether the dataloader works okay or not\n",
    "tmp_loader = torch.utils.data.DataLoader(dataset=train_dataset,\n",
    "                                         batch_size=1,\n",
    "                                         shuffle=True)\n",
    "for x, y in tmp_loader:\n",
    "    print(x)\n",
    "    print(x.shape)\n",
    "    # [batch_size, num_channels, image_height, image_width]\n",
    "    break"
   ]
  },
  {
   "cell_type": "markdown",
   "metadata": {},
   "source": [
    "## Build Model\n",
    "This covers how to build a convolutional neural network classification model using fashion MNIST dataset to train. Since the dataset is big enough, we can use GPU for faster process if available."
   ]
  },
  {
   "cell_type": "code",
   "execution_count": 16,
   "metadata": {},
   "outputs": [],
   "source": [
    "# define the model\n",
    "class CNN(nn.Module):\n",
    "    def __init__(self, K):\n",
    "        super(CNN, self).__init__()\n",
    "        \n",
    "        # define convolutional layers\n",
    "        self.conv1 = nn.Sequential(\n",
    "            \n",
    "        )\n",
    "        \n",
    "        self.conv1 = nn.Conv2d(in_channels=3, out_channels=32, kernel_size=3, stride=2)\n",
    "        # H_out = floor[(H_in + 2*p - d(k-1) - 1)/2 + 1]\n",
    "        # image size: 32X32 -> 15X15\n",
    "        self.conv2 = nn.Conv2d(in_channels=32, out_channels=64, kernel_size=3, stride=2)\n",
    "        # image size: 15X15 -> 7X7\n",
    "        self.conv3 = nn.Conv2d(in_channels=64, out_channels=128, kernel_size=3, stride=2)\n",
    "        # image size: 7X7 -> 3X3\n",
    "        \n",
    "        # define linear (fc) layers\n",
    "        self.fc1 = nn.Linear(128 * 3 * 3, 1024)\n",
    "        self.fc2 = nn.Linear(1024, K)\n",
    "        \n",
    "    def forward(self, X):\n",
    "        X = F.relu(self.conv1(X))\n",
    "        X = F.relu(self.conv2(X))\n",
    "        X = F.relu(self.conv3(X))\n",
    "        X = X.view(-1, 128 * 3 * 3)\n",
    "        X = F.dropout(X, p=0.5)\n",
    "        X = F.relu(self.fc1(X))\n",
    "        X = F.dropout(X, p=0.2)\n",
    "        return self.fc2(X)"
   ]
  },
  {
   "cell_type": "code",
   "execution_count": 17,
   "metadata": {},
   "outputs": [],
   "source": [
    "# instantiate the model\n",
    "model = CNN(K)"
   ]
  },
  {
   "cell_type": "code",
   "execution_count": null,
   "metadata": {},
   "outputs": [],
   "source": [
    "# activate gpu if possible, otherwise cpu\n",
    "device = torch.device(\"cuda:0\" if torch.cuda.is_available() else \"cpu\")\n",
    "print(device)\n",
    "\n",
    "# send the model to the device\n",
    "model.to(device)\n"
   ]
  },
  {
   "cell_type": "code",
   "execution_count": 19,
   "metadata": {},
   "outputs": [],
   "source": [
    "# loss and optimizer\n",
    "criterion = nn.CrossEntropyLoss()\n",
    "optimizer = torch.optim.Adam(model.parameters())"
   ]
  },
  {
   "cell_type": "markdown",
   "metadata": {},
   "source": [
    "## Training\n",
    "This covers how to train the convolutional neural network classification model with the input data that we processed."
   ]
  },
  {
   "cell_type": "code",
   "execution_count": 20,
   "metadata": {},
   "outputs": [],
   "source": [
    "# build a function for training using batch gradient descent\n",
    "def batch_gd(model, criterion, optimizer, train_loader, test_loader, epochs):\n",
    "    # losses will be stored to plot the results\n",
    "    # storage for losses per each epoch\n",
    "    train_losses = np.zeros(epochs)\n",
    "    test_losses = np.zeros(epochs)\n",
    "    \n",
    "    for epoch in range(epochs):\n",
    "        # train mode\n",
    "        model.train()\n",
    "        t0 = datetime.now()\n",
    "        train_loss = []\n",
    "        \n",
    "        for inputs, targets in train_loader:\n",
    "            # send data to the device\n",
    "            inputs, targets = inputs.to(device), targets.to(device)\n",
    "            \n",
    "            # zero the parameter gradients to make sure they are zero\n",
    "            optimizer.zero_grad()\n",
    "            \n",
    "            # forward pass\n",
    "            outputs = model(inputs)\n",
    "            loss = criterion(outputs, targets)\n",
    "            \n",
    "            # backward and optimize\n",
    "            loss.backward()\n",
    "            optimizer.step()\n",
    "            \n",
    "            # save the batch loss\n",
    "            train_loss.append(loss.item())\n",
    "        \n",
    "        # get train loss per epoch as average loss of all the batches in that epoch\n",
    "        train_loss = np.mean(train_loss)\n",
    "        train_losses[epoch] = train_loss\n",
    "        \n",
    "        # test mode\n",
    "        model.eval()\n",
    "        test_loss = []\n",
    "        \n",
    "        for inputs, targets in test_loader:\n",
    "            inputs, targets = inputs.to(device), targets.to(device)\n",
    "            outputs = model(inputs)\n",
    "            loss = criterion(outputs, targets)\n",
    "            test_loss.append(loss.item())\n",
    "        test_loss = np.mean(test_loss)\n",
    "        test_losses[epoch] = test_loss\n",
    "        \n",
    "        # calculate time spent\n",
    "        dt = datetime.now() - t0\n",
    "        \n",
    "        # print out the result\n",
    "        print(f\"Epoch: {epoch+1}/{epochs}, Train loss: {train_loss:.4f}, Tess loss: {test_loss:.4f}, Duration: {dt}\")\n",
    "    \n",
    "    return train_losses, test_losses"
   ]
  },
  {
   "cell_type": "code",
   "execution_count": null,
   "metadata": {},
   "outputs": [],
   "source": [
    "# get the result\n",
    "train_losses, test_losses = batch_gd(\n",
    "    model, criterion, optimizer, train_loader, test_loader, epochs=15\n",
    ")"
   ]
  },
  {
   "cell_type": "markdown",
   "metadata": {},
   "source": [
    "## Result\n",
    "This shows the result of the convolutional neural network classification model by showing the loss evolution and calculating the accuracy of the model."
   ]
  },
  {
   "cell_type": "code",
   "execution_count": null,
   "metadata": {},
   "outputs": [],
   "source": [
    "# plot the train loss and test loss per iteration\n",
    "plt.plot(train_losses, label=\"Train loss\")\n",
    "plt.plot(test_losses, label=\"Test loss\")\n",
    "plt.legend()\n",
    "plt.show()"
   ]
  },
  {
   "cell_type": "code",
   "execution_count": null,
   "metadata": {},
   "outputs": [],
   "source": [
    "# calculate accuracy\n",
    "# train accuracy\n",
    "n_correct = 0.\n",
    "n_total = 0.\n",
    "\n",
    "model.eval()\n",
    "for inputs, targets in train_loader:\n",
    "    # send data to the device\n",
    "    inputs, targets = inputs.to(device), targets.to(device)\n",
    "    \n",
    "    # forward pass\n",
    "    outputs = model(inputs)\n",
    "    \n",
    "    # predictions by returning max value label\n",
    "    _, predictions = torch.max(outputs, 1)\n",
    "    \n",
    "    # update numbers\n",
    "    n_correct += (predictions == targets).sum().item()\n",
    "    n_total += targets.shape[0]\n",
    "\n",
    "# calculate train accuracy\n",
    "train_acc = n_correct / n_total\n",
    "\n",
    "# test accuracy\n",
    "n_correct = 0.\n",
    "n_total = 0.\n",
    "\n",
    "for inputs, targets in test_loader:\n",
    "    inputs, targets = inputs.to(device), targets.to(device)\n",
    "    outputs = model(inputs)\n",
    "    _, predictions = torch.max(outputs, 1)\n",
    "    n_correct += (predictions == targets).sum().item()\n",
    "    n_total += targets.shape[0]\n",
    "\n",
    "# calculate test accuracy\n",
    "test_acc = n_correct / n_total\n",
    "\n",
    "# print the result\n",
    "print(f\"Train accuracy: {train_acc:.4f}, Test accuracy: {test_acc:.4f}\")"
   ]
  },
  {
   "cell_type": "markdown",
   "metadata": {},
   "source": [
    "## Apendix: Confusion Matrix\n",
    "This covers how to plot confusion matrix using the results that we got above."
   ]
  },
  {
   "cell_type": "code",
   "execution_count": 25,
   "metadata": {},
   "outputs": [],
   "source": [
    "# import libraries to plot confusion matrix\n",
    "from sklearn.metrics import confusion_matrix\n",
    "import itertools\n",
    "\n",
    "# function to plot confusion matrix\n",
    "def plot_confusion_matrix(cm, classes,\n",
    "                          normalize=False,\n",
    "                          title='Confusion matrix',\n",
    "                          cmap=plt.cm.Blues):\n",
    "    \"\"\"\n",
    "    This function prints and plots the confusion matrix.\n",
    "    Normalization can be applied by setting `normalize=True`.\n",
    "    \"\"\"\n",
    "    if normalize:\n",
    "        cm = cm.astype('float') / cm.sum(axis=1)[:, np.newaxis]\n",
    "        print(\"Normalized confusion matrix\")\n",
    "    else:\n",
    "        print('Confusion matrix, without normalization')\n",
    "\n",
    "    print(cm)\n",
    "\n",
    "    plt.imshow(cm, interpolation='nearest', cmap=cmap)\n",
    "    plt.title(title)\n",
    "    plt.colorbar()\n",
    "    tick_marks = np.arange(len(classes))\n",
    "    plt.xticks(tick_marks, classes, rotation=45)\n",
    "    plt.yticks(tick_marks, classes)\n",
    "\n",
    "    fmt = '.2f' if normalize else 'd'\n",
    "    thresh = cm.max() / 2.\n",
    "    for i, j in itertools.product(range(cm.shape[0]), range(cm.shape[1])):\n",
    "        plt.text(j, i, format(cm[i, j], fmt),\n",
    "                horizontalalignment=\"center\",\n",
    "                color=\"white\" if cm[i, j] > thresh else \"black\")\n",
    "\n",
    "    plt.tight_layout()\n",
    "    plt.ylabel('True label')\n",
    "    plt.xlabel('Predicted label')\n",
    "    plt.show()"
   ]
  },
  {
   "cell_type": "code",
   "execution_count": null,
   "metadata": {},
   "outputs": [],
   "source": [
    "# get predictions in an array and plot the confusion matrix\n",
    "x_test = test_dataset.data\n",
    "y_test = test_dataset.targets\n",
    "p_test = np.array([])\n",
    "\n",
    "for inputs, targets in test_loader:\n",
    "    # move data to device\n",
    "    inputs = inputs.to(device)\n",
    "    \n",
    "    # forward pass\n",
    "    outputs = model(inputs)\n",
    "    \n",
    "    # get predictions\n",
    "    _, predictions = torch.max(outputs, 1)\n",
    "    \n",
    "    # update p_test\n",
    "    p_test = np.concatenate((p_test, predictions.cpu().numpy()))\n",
    "    # need to bring the result back to cpu to process the plot\n",
    "    \n",
    "cm = confusion_matrix(y_test, p_test)\n",
    "plot_confusion_matrix(cm, list(range(10)))"
   ]
  },
  {
   "cell_type": "markdown",
   "metadata": {},
   "source": [
    "## Apendix: Misclassified Cases\n",
    "This covers examples of misclassification."
   ]
  },
  {
   "cell_type": "code",
   "execution_count": 27,
   "metadata": {},
   "outputs": [],
   "source": [
    "# label mapping\n",
    "labels = '''airplane\n",
    "automobile\n",
    "bird\n",
    "cat\n",
    "deer\n",
    "dog\n",
    "frog\n",
    "horse\n",
    "ship\n",
    "truck'''.split()"
   ]
  },
  {
   "cell_type": "code",
   "execution_count": null,
   "metadata": {},
   "outputs": [],
   "source": [
    "# Show some misclassified examples\n",
    "p_test = p_test.astype(np.uint8)\n",
    "misclassified_idx = np.where(p_test != y_test)[0]\n",
    "i = np.random.choice(misclassified_idx)\n",
    "plt.imshow(x_test[i].reshape(32,32,3))\n",
    "plt.title(\"True label: %s Predicted: %s\" % (labels[y_test[i]], labels[p_test[i]]))"
   ]
  }
 ],
 "metadata": {
  "kernelspec": {
   "display_name": ".hamer",
   "language": "python",
   "name": "python3"
  },
  "language_info": {
   "codemirror_mode": {
    "name": "ipython",
    "version": 3
   },
   "file_extension": ".py",
   "mimetype": "text/x-python",
   "name": "python",
   "nbconvert_exporter": "python",
   "pygments_lexer": "ipython3",
   "version": "3.8.19"
  }
 },
 "nbformat": 4,
 "nbformat_minor": 2
}
